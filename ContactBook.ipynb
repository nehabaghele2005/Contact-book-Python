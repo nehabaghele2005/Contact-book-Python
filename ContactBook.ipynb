{
 "cells": [
  {
   "cell_type": "code",
   "execution_count": 3,
   "id": "f2b9057f-c1fb-4b40-8277-0214b9f69d28",
   "metadata": {},
   "outputs": [
    {
     "name": "stdout",
     "output_type": "stream",
     "text": [
      "\n",
      "1.add contact\n",
      "2.display contact\n",
      "3.search contact\n",
      "4.delete contact\n",
      "5.Exit\n"
     ]
    },
    {
     "name": "stdin",
     "output_type": "stream",
     "text": [
      "Enter choice: 1\n",
      "Enter name: neha\n",
      "Enter phone: 8378850068\n",
      "Enter email: neha@123\n"
     ]
    },
    {
     "name": "stdout",
     "output_type": "stream",
     "text": [
      "Contact added successfully!\n",
      "\n",
      "1.add contact\n",
      "2.display contact\n",
      "3.search contact\n",
      "4.delete contact\n",
      "5.Exit\n"
     ]
    },
    {
     "name": "stdin",
     "output_type": "stream",
     "text": [
      "Enter choice: 2\n"
     ]
    },
    {
     "name": "stdout",
     "output_type": "stream",
     "text": [
      "name:neha,phone:8378850068,email:neha@123\n",
      "\n",
      "1.add contact\n",
      "2.display contact\n",
      "3.search contact\n",
      "4.delete contact\n",
      "5.Exit\n"
     ]
    },
    {
     "name": "stdin",
     "output_type": "stream",
     "text": [
      "Enter choice: 3\n",
      "Enter name to search: neha\n"
     ]
    },
    {
     "name": "stdout",
     "output_type": "stream",
     "text": [
      "name:neha,phone:8378850068,email:neha@123\n",
      "\n",
      "1.add contact\n",
      "2.display contact\n",
      "3.search contact\n",
      "4.delete contact\n",
      "5.Exit\n"
     ]
    },
    {
     "name": "stdin",
     "output_type": "stream",
     "text": [
      "Enter choice: 4\n",
      "Enter name to delete: neha\n"
     ]
    },
    {
     "name": "stdout",
     "output_type": "stream",
     "text": [
      "Contact deleted successfully\n",
      "\n",
      "1.add contact\n",
      "2.display contact\n",
      "3.search contact\n",
      "4.delete contact\n",
      "5.Exit\n"
     ]
    },
    {
     "name": "stdin",
     "output_type": "stream",
     "text": [
      "Enter choice: 5\n"
     ]
    },
    {
     "name": "stdout",
     "output_type": "stream",
     "text": [
      "Goodbye!\n"
     ]
    }
   ],
   "source": [
    "#contact book using lists and dictionaries\n",
    "contacts = []\n",
    "#add contact\n",
    "def add_contact():\n",
    "    name = input(\"Enter name:\")\n",
    "    phone = input(\"Enter phone:\")\n",
    "    email = input(\"Enter email:\")\n",
    "    contacts.append({\"name\":name,\"phone\":phone,\"email\":email})\n",
    "    print(\"Contact added successfully!\")\n",
    "    #disply all contacts\n",
    "def display_contacts():\n",
    "    if not contacts:\n",
    "        print(\"No contacts found.\")\n",
    "        return\n",
    "    for contact in contacts:\n",
    "        print(f\"name:{contact['name']},phone:{contact['phone']},email:{contact['email']}\")\n",
    "            #search contact\n",
    "def search_contact():\n",
    "    name = input(\"Enter name to search:\")\n",
    "    for contact in contacts:\n",
    "        if contact[\"name\"].lower()==name.lower():\n",
    "            print(f\"name:{contact['name']},phone:{contact['phone']},email:{contact['email']}\")\n",
    "            return \n",
    "        print(\"Contact not found.\")\n",
    "#delete contact\n",
    "def delete_contact():\n",
    "    name = input(\"Enter name to delete:\")\n",
    "    for contact in contacts:\n",
    "        if contact[\"name\"].lower()==name.lower():\n",
    "            contacts.remove(contact)\n",
    "        print(\"Contact deleted successfully\")\n",
    "        return \n",
    "        print(\"Contact not found.\") \n",
    "    #main menu\n",
    "def main():\n",
    "    while True:\n",
    "        print(\"\\n1.add contact\\n2.display contact\\n3.search contact\\n4.delete contact\\n5.Exit\")\n",
    "        choice = input(\"Enter choice:\")\n",
    "        if choice == '1':\n",
    "            add_contact()\n",
    "        elif choice == '2':\n",
    "            display_contacts()\n",
    "        elif choice == '3':\n",
    "            search_contact()\n",
    "        elif choice =='4':\n",
    "            delete_contact()\n",
    "        elif choice =='5':\n",
    "            print(\"Goodbye!\")\n",
    "            break\n",
    "        else:\n",
    "            print(\"Invalid choice,try again.\")\n",
    "main()                "
   ]
  },
  {
   "cell_type": "code",
   "execution_count": null,
   "id": "f42fe090-2960-4e21-97b3-2f40df6b4fea",
   "metadata": {},
   "outputs": [],
   "source": []
  }
 ],
 "metadata": {
  "kernelspec": {
   "display_name": "Python [conda env:base] *",
   "language": "python",
   "name": "conda-base-py"
  },
  "language_info": {
   "codemirror_mode": {
    "name": "ipython",
    "version": 3
   },
   "file_extension": ".py",
   "mimetype": "text/x-python",
   "name": "python",
   "nbconvert_exporter": "python",
   "pygments_lexer": "ipython3",
   "version": "3.12.7"
  }
 },
 "nbformat": 4,
 "nbformat_minor": 5
}
